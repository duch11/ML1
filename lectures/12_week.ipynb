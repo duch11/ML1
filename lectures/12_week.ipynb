{
 "cells": [
  {
   "cell_type": "code",
   "execution_count": 1,
   "metadata": {
    "slideshow": {
     "slide_type": "skip"
    }
   },
   "outputs": [],
   "source": [
    "import numpy as np\n",
    "import matplotlib.pyplot as plt\n",
    "import pandas as pd\n",
    "import seaborn as sns\n",
    "%matplotlib inline"
   ]
  },
  {
   "cell_type": "markdown",
   "metadata": {
    "slideshow": {
     "slide_type": "slide"
    }
   },
   "source": [
    "## COMP 3122 - Artificial Intelligence with Python\n",
    "__Week 12 lecture__\n",
    "\n",
    "### [github.com/kamrik/ML1](https://github.com/kamrik/ML1)\n",
    "\n",
    "### [slido.com/COMP3122](http://slido.com/COMP3122)"
   ]
  },
  {
   "cell_type": "markdown",
   "metadata": {
    "slideshow": {
     "slide_type": "slide"
    }
   },
   "source": [
    "## The plan for today\n",
    " - Home assignment 2 solution notes and comments\n",
    " - Home assignment 3 - demo and explanation\n",
    " - More about confusion matrices\n",
    " - Logistic regression\n",
    " "
   ]
  },
  {
   "cell_type": "markdown",
   "metadata": {
    "slideshow": {
     "slide_type": "slide"
    }
   },
   "source": [
    "## Home assignment 2 - general remarks\n",
    "\n",
    " "
   ]
  },
  {
   "cell_type": "markdown",
   "metadata": {
    "slideshow": {
     "slide_type": "slide"
    }
   },
   "source": [
    "## Suggestions for improving your Python skills\n",
    " - [DataQuest](https://www.dataquest.io/) - browser-based, teaches Python in the context of data science\n",
    " - [CheckIO](https://checkio.org/) - a good collection of exercises to try when you are comfortable with the basics\n",
    " - [exercism.io](https://exercism.io/) - exercises with peer reviews of your code\n",
    " - [leetcode.com](https://leetcode.com/) - exercises good for interview prep and portfolio building"
   ]
  },
  {
   "cell_type": "code",
   "execution_count": null,
   "metadata": {
    "slideshow": {
     "slide_type": "slide"
    }
   },
   "outputs": [],
   "source": [
    "# Constructors\n",
    "d1 = dict()\n",
    "d = {}\n",
    "lst1 = list()\n",
    "lst = []\n",
    "lst.append()\n",
    "d[k] = v "
   ]
  },
  {
   "cell_type": "code",
   "execution_count": null,
   "metadata": {
    "slideshow": {
     "slide_type": "slide"
    }
   },
   "outputs": [],
   "source": [
    "if len(tbl) == 0:\n",
    "    return {}"
   ]
  },
  {
   "cell_type": "code",
   "execution_count": null,
   "metadata": {},
   "outputs": [],
   "source": []
  },
  {
   "cell_type": "markdown",
   "metadata": {
    "slideshow": {
     "slide_type": "slide"
    }
   },
   "source": [
    "## Style\n",
    " - PEP = Python Enhancement Proposal\n",
    "   - [a list of all PEPs](https://www.python.org/dev/peps/)\n",
    " - PEP8 - Style Guide for Python Code\n",
    "   - https://pep8.org/"
   ]
  },
  {
   "cell_type": "code",
   "execution_count": 13,
   "metadata": {
    "slideshow": {
     "slide_type": "slide"
    }
   },
   "outputs": [],
   "source": [
    "by = 3\n",
    "tbl = [[15, 29,  6,  2],\n",
    "       [16,  9,  8,  0],\n",
    "       [ 7, 27, 16,  0]]"
   ]
  },
  {
   "cell_type": "code",
   "execution_count": 14,
   "metadata": {
    "slideshow": {
     "slide_type": "-"
    }
   },
   "outputs": [
    {
     "data": {
      "text/plain": [
       "[[15, 29, 6, 2], [16, 9, 8, 0], [7, 27, 16, 0]]"
      ]
     },
     "execution_count": 14,
     "metadata": {},
     "output_type": "execute_result"
    }
   ],
   "source": [
    "tbl"
   ]
  },
  {
   "cell_type": "code",
   "execution_count": 15,
   "metadata": {
    "slideshow": {
     "slide_type": "-"
    }
   },
   "outputs": [
    {
     "data": {
      "text/plain": [
       "[2, 0, 0]"
      ]
     },
     "execution_count": 15,
     "metadata": {},
     "output_type": "execute_result"
    }
   ],
   "source": [
    "by_col = [i[by] for i in tbl]  # suboptimal\n",
    "by_col = [row[by] for row in tbl]  # more readable\n",
    "by_col"
   ]
  },
  {
   "cell_type": "code",
   "execution_count": null,
   "metadata": {
    "slideshow": {
     "slide_type": "slide"
    }
   },
   "outputs": [],
   "source": [
    "if k not in d:\n",
    "    d[k] = initial_value\n",
    "    \n",
    "d.setdefault()"
   ]
  },
  {
   "cell_type": "code",
   "execution_count": 18,
   "metadata": {},
   "outputs": [],
   "source": [
    "from collections import defaultdict"
   ]
  },
  {
   "cell_type": "code",
   "execution_count": 3,
   "metadata": {
    "slideshow": {
     "slide_type": "slide"
    }
   },
   "outputs": [],
   "source": [
    "# \"Group By\" solution\n",
    "def avgby(tbl, col, by):\n",
    "    res = dict()\n",
    "    count = dict()\n",
    "    for row in tbl:\n",
    "        if row[by] in res:\n",
    "            res[row[by]] += row[col]\n",
    "            count[row[by]] += 1\n",
    "        else:\n",
    "            res[row[by]] = row[col]\n",
    "            count[row[by]] = 1\n",
    "    for key in res:\n",
    "        res[key] = res[key] / float(count[key])\n",
    "    return res"
   ]
  },
  {
   "cell_type": "markdown",
   "metadata": {
    "slideshow": {
     "slide_type": "slide"
    }
   },
   "source": [
    "## Home assignment 3\n",
    " - https://www.kaggle.com/c/house-prices-advanced-regression-techniques\n",
    " - Uses RMSE score\n",
    " - You need score of 0.3 or bette\n",
    " - Email me your Kaggle username and link to a file with your calculations - .ipynb or .py file(s)"
   ]
  },
  {
   "cell_type": "markdown",
   "metadata": {
    "slideshow": {
     "slide_type": "slide"
    }
   },
   "source": [
    "## One vs Rest classification for multi-class problems"
   ]
  },
  {
   "cell_type": "markdown",
   "metadata": {
    "slideshow": {
     "slide_type": "slide"
    }
   },
   "source": [
    "## More confustion with confusion matrices"
   ]
  },
  {
   "cell_type": "code",
   "execution_count": 24,
   "metadata": {
    "slideshow": {
     "slide_type": "slide"
    }
   },
   "outputs": [],
   "source": [
    "df = sns.load_dataset('iris')\n",
    "y = np.zeros(len(df), dtype=int)\n",
    "for i, s in enumerate(df.species.unique()):\n",
    "    y[df.species==s] = i\n",
    "X = df[df.columns[:4]]"
   ]
  },
  {
   "cell_type": "code",
   "execution_count": 28,
   "metadata": {},
   "outputs": [],
   "source": [
    "from sklearn.neighbors import KNeighborsClassifier\n",
    "clf = KNeighborsClassifier(n_neighbors=10)\n",
    "clf.fit(X, y)\n",
    "y_pred = clf.predict(X)"
   ]
  },
  {
   "cell_type": "code",
   "execution_count": 30,
   "metadata": {},
   "outputs": [
    {
     "data": {
      "text/plain": [
       "array([[50,  0,  0],\n",
       "       [ 0, 49,  1],\n",
       "       [ 0,  2, 48]], dtype=int64)"
      ]
     },
     "execution_count": 30,
     "metadata": {},
     "output_type": "execute_result"
    }
   ],
   "source": [
    "from sklearn.metrics import confusion_matrix\n",
    "confusion_matrix(y, y_pred)"
   ]
  },
  {
   "cell_type": "markdown",
   "metadata": {
    "slideshow": {
     "slide_type": "slide"
    }
   },
   "source": [
    "## Logistic regression"
   ]
  }
 ],
 "metadata": {
  "celltoolbar": "Slideshow",
  "kernelspec": {
   "display_name": "Python 3",
   "language": "python",
   "name": "python3"
  },
  "language_info": {
   "codemirror_mode": {
    "name": "ipython",
    "version": 3
   },
   "file_extension": ".py",
   "mimetype": "text/x-python",
   "name": "python",
   "nbconvert_exporter": "python",
   "pygments_lexer": "ipython3",
   "version": "3.6.6"
  }
 },
 "nbformat": 4,
 "nbformat_minor": 2
}
