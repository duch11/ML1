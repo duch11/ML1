{
 "cells": [
  {
   "cell_type": "markdown",
   "metadata": {},
   "source": [
    "# Assignment 3"
   ]
  },
  {
   "cell_type": "markdown",
   "metadata": {},
   "source": [
    "### First import all the libraries"
   ]
  },
  {
   "cell_type": "code",
   "execution_count": 1,
   "metadata": {},
   "outputs": [],
   "source": [
    "import numpy as np\n",
    "import pandas as pd\n",
    "import matplotlib.pyplot as plt\n",
    "import seaborn as sns\n",
    "import sklearn"
   ]
  },
  {
   "cell_type": "markdown",
   "metadata": {},
   "source": [
    "# Select Columns and fit/predict method"
   ]
  },
  {
   "cell_type": "code",
   "execution_count": 2,
   "metadata": {},
   "outputs": [],
   "source": [
    "fit_cols_num = [\"OverallQual\",\"OverallCond\",\"MSSubClass\",\"LotFrontage\"]\n",
    "# 0, 1 or 2 (3 for all)\n",
    "LinReg_Lasso_Ridge = 2"
   ]
  },
  {
   "cell_type": "markdown",
   "metadata": {},
   "source": [
    "Now I need to figure out what to focus on, I might want the fields:\n",
    "    - (YearRemodAdd - YrSold)*-1 = delta_years_mod_and_sold NO\n",
    "    - LotArea NO\n",
    "    - LotFrontage NO\n",
    "    - OverallCond OK\n",
    "    - OverallQual OK\n",
    "    - MSZoning OK\n",
    "    - MasVnrArea NO\n",
    "    - GarageArea NO"
   ]
  },
  {
   "cell_type": "markdown",
   "metadata": {},
   "source": [
    "# Load datasets"
   ]
  },
  {
   "cell_type": "markdown",
   "metadata": {},
   "source": [
    "### Load Test Data"
   ]
  },
  {
   "cell_type": "code",
   "execution_count": 3,
   "metadata": {},
   "outputs": [
    {
     "data": {
      "text/html": [
       "<div>\n",
       "<style scoped>\n",
       "    .dataframe tbody tr th:only-of-type {\n",
       "        vertical-align: middle;\n",
       "    }\n",
       "\n",
       "    .dataframe tbody tr th {\n",
       "        vertical-align: top;\n",
       "    }\n",
       "\n",
       "    .dataframe thead th {\n",
       "        text-align: right;\n",
       "    }\n",
       "</style>\n",
       "<table border=\"1\" class=\"dataframe\">\n",
       "  <thead>\n",
       "    <tr style=\"text-align: right;\">\n",
       "      <th></th>\n",
       "      <th>MSSubClass</th>\n",
       "      <th>MSZoning</th>\n",
       "      <th>LotFrontage</th>\n",
       "      <th>LotArea</th>\n",
       "      <th>Street</th>\n",
       "      <th>Alley</th>\n",
       "      <th>LotShape</th>\n",
       "      <th>LandContour</th>\n",
       "      <th>Utilities</th>\n",
       "      <th>LotConfig</th>\n",
       "      <th>...</th>\n",
       "      <th>ScreenPorch</th>\n",
       "      <th>PoolArea</th>\n",
       "      <th>PoolQC</th>\n",
       "      <th>Fence</th>\n",
       "      <th>MiscFeature</th>\n",
       "      <th>MiscVal</th>\n",
       "      <th>MoSold</th>\n",
       "      <th>YrSold</th>\n",
       "      <th>SaleType</th>\n",
       "      <th>SaleCondition</th>\n",
       "    </tr>\n",
       "    <tr>\n",
       "      <th>Id</th>\n",
       "      <th></th>\n",
       "      <th></th>\n",
       "      <th></th>\n",
       "      <th></th>\n",
       "      <th></th>\n",
       "      <th></th>\n",
       "      <th></th>\n",
       "      <th></th>\n",
       "      <th></th>\n",
       "      <th></th>\n",
       "      <th></th>\n",
       "      <th></th>\n",
       "      <th></th>\n",
       "      <th></th>\n",
       "      <th></th>\n",
       "      <th></th>\n",
       "      <th></th>\n",
       "      <th></th>\n",
       "      <th></th>\n",
       "      <th></th>\n",
       "      <th></th>\n",
       "    </tr>\n",
       "  </thead>\n",
       "  <tbody>\n",
       "    <tr>\n",
       "      <th>1461</th>\n",
       "      <td>20</td>\n",
       "      <td>RH</td>\n",
       "      <td>80.0</td>\n",
       "      <td>11622</td>\n",
       "      <td>Pave</td>\n",
       "      <td>NaN</td>\n",
       "      <td>Reg</td>\n",
       "      <td>Lvl</td>\n",
       "      <td>AllPub</td>\n",
       "      <td>Inside</td>\n",
       "      <td>...</td>\n",
       "      <td>120</td>\n",
       "      <td>0</td>\n",
       "      <td>NaN</td>\n",
       "      <td>MnPrv</td>\n",
       "      <td>NaN</td>\n",
       "      <td>0</td>\n",
       "      <td>6</td>\n",
       "      <td>2010</td>\n",
       "      <td>WD</td>\n",
       "      <td>Normal</td>\n",
       "    </tr>\n",
       "    <tr>\n",
       "      <th>1462</th>\n",
       "      <td>20</td>\n",
       "      <td>RL</td>\n",
       "      <td>81.0</td>\n",
       "      <td>14267</td>\n",
       "      <td>Pave</td>\n",
       "      <td>NaN</td>\n",
       "      <td>IR1</td>\n",
       "      <td>Lvl</td>\n",
       "      <td>AllPub</td>\n",
       "      <td>Corner</td>\n",
       "      <td>...</td>\n",
       "      <td>0</td>\n",
       "      <td>0</td>\n",
       "      <td>NaN</td>\n",
       "      <td>NaN</td>\n",
       "      <td>Gar2</td>\n",
       "      <td>12500</td>\n",
       "      <td>6</td>\n",
       "      <td>2010</td>\n",
       "      <td>WD</td>\n",
       "      <td>Normal</td>\n",
       "    </tr>\n",
       "    <tr>\n",
       "      <th>1463</th>\n",
       "      <td>60</td>\n",
       "      <td>RL</td>\n",
       "      <td>74.0</td>\n",
       "      <td>13830</td>\n",
       "      <td>Pave</td>\n",
       "      <td>NaN</td>\n",
       "      <td>IR1</td>\n",
       "      <td>Lvl</td>\n",
       "      <td>AllPub</td>\n",
       "      <td>Inside</td>\n",
       "      <td>...</td>\n",
       "      <td>0</td>\n",
       "      <td>0</td>\n",
       "      <td>NaN</td>\n",
       "      <td>MnPrv</td>\n",
       "      <td>NaN</td>\n",
       "      <td>0</td>\n",
       "      <td>3</td>\n",
       "      <td>2010</td>\n",
       "      <td>WD</td>\n",
       "      <td>Normal</td>\n",
       "    </tr>\n",
       "    <tr>\n",
       "      <th>1464</th>\n",
       "      <td>60</td>\n",
       "      <td>RL</td>\n",
       "      <td>78.0</td>\n",
       "      <td>9978</td>\n",
       "      <td>Pave</td>\n",
       "      <td>NaN</td>\n",
       "      <td>IR1</td>\n",
       "      <td>Lvl</td>\n",
       "      <td>AllPub</td>\n",
       "      <td>Inside</td>\n",
       "      <td>...</td>\n",
       "      <td>0</td>\n",
       "      <td>0</td>\n",
       "      <td>NaN</td>\n",
       "      <td>NaN</td>\n",
       "      <td>NaN</td>\n",
       "      <td>0</td>\n",
       "      <td>6</td>\n",
       "      <td>2010</td>\n",
       "      <td>WD</td>\n",
       "      <td>Normal</td>\n",
       "    </tr>\n",
       "    <tr>\n",
       "      <th>1465</th>\n",
       "      <td>120</td>\n",
       "      <td>RL</td>\n",
       "      <td>43.0</td>\n",
       "      <td>5005</td>\n",
       "      <td>Pave</td>\n",
       "      <td>NaN</td>\n",
       "      <td>IR1</td>\n",
       "      <td>HLS</td>\n",
       "      <td>AllPub</td>\n",
       "      <td>Inside</td>\n",
       "      <td>...</td>\n",
       "      <td>144</td>\n",
       "      <td>0</td>\n",
       "      <td>NaN</td>\n",
       "      <td>NaN</td>\n",
       "      <td>NaN</td>\n",
       "      <td>0</td>\n",
       "      <td>1</td>\n",
       "      <td>2010</td>\n",
       "      <td>WD</td>\n",
       "      <td>Normal</td>\n",
       "    </tr>\n",
       "  </tbody>\n",
       "</table>\n",
       "<p>5 rows × 79 columns</p>\n",
       "</div>"
      ],
      "text/plain": [
       "      MSSubClass MSZoning  LotFrontage  LotArea Street Alley LotShape  \\\n",
       "Id                                                                      \n",
       "1461          20       RH         80.0    11622   Pave   NaN      Reg   \n",
       "1462          20       RL         81.0    14267   Pave   NaN      IR1   \n",
       "1463          60       RL         74.0    13830   Pave   NaN      IR1   \n",
       "1464          60       RL         78.0     9978   Pave   NaN      IR1   \n",
       "1465         120       RL         43.0     5005   Pave   NaN      IR1   \n",
       "\n",
       "     LandContour Utilities LotConfig      ...       ScreenPorch PoolArea  \\\n",
       "Id                                        ...                              \n",
       "1461         Lvl    AllPub    Inside      ...               120        0   \n",
       "1462         Lvl    AllPub    Corner      ...                 0        0   \n",
       "1463         Lvl    AllPub    Inside      ...                 0        0   \n",
       "1464         Lvl    AllPub    Inside      ...                 0        0   \n",
       "1465         HLS    AllPub    Inside      ...               144        0   \n",
       "\n",
       "     PoolQC  Fence MiscFeature MiscVal  MoSold  YrSold  SaleType  \\\n",
       "Id                                                                 \n",
       "1461    NaN  MnPrv         NaN       0       6    2010        WD   \n",
       "1462    NaN    NaN        Gar2   12500       6    2010        WD   \n",
       "1463    NaN  MnPrv         NaN       0       3    2010        WD   \n",
       "1464    NaN    NaN         NaN       0       6    2010        WD   \n",
       "1465    NaN    NaN         NaN       0       1    2010        WD   \n",
       "\n",
       "      SaleCondition  \n",
       "Id                   \n",
       "1461         Normal  \n",
       "1462         Normal  \n",
       "1463         Normal  \n",
       "1464         Normal  \n",
       "1465         Normal  \n",
       "\n",
       "[5 rows x 79 columns]"
      ]
     },
     "execution_count": 3,
     "metadata": {},
     "output_type": "execute_result"
    }
   ],
   "source": [
    "df_houseprices_testdata = pd.read_csv('test.csv', sep=',')\n",
    "df_houseprices_testdata.set_index([\"Id\"]).head()"
   ]
  },
  {
   "cell_type": "markdown",
   "metadata": {},
   "source": [
    "### Load Train Data"
   ]
  },
  {
   "cell_type": "code",
   "execution_count": 4,
   "metadata": {},
   "outputs": [
    {
     "data": {
      "text/plain": [
       "Index(['MSSubClass', 'LotFrontage', 'LotArea', 'OverallQual', 'OverallCond',\n",
       "       'YearBuilt', 'YearRemodAdd', 'MasVnrArea', 'BsmtFinSF1', 'BsmtFinSF2',\n",
       "       'BsmtUnfSF', 'TotalBsmtSF', '1stFlrSF', '2ndFlrSF', 'LowQualFinSF',\n",
       "       'GrLivArea', 'BsmtFullBath', 'BsmtHalfBath', 'FullBath', 'HalfBath',\n",
       "       'BedroomAbvGr', 'KitchenAbvGr', 'TotRmsAbvGrd', 'Fireplaces',\n",
       "       'GarageYrBlt', 'GarageCars', 'GarageArea', 'WoodDeckSF', 'OpenPorchSF',\n",
       "       'EnclosedPorch', '3SsnPorch', 'ScreenPorch', 'PoolArea', 'MiscVal',\n",
       "       'MoSold', 'YrSold', 'SalePrice'],\n",
       "      dtype='object')"
      ]
     },
     "execution_count": 4,
     "metadata": {},
     "output_type": "execute_result"
    }
   ],
   "source": [
    "df_houseprices_traindata = pd.read_csv('train.csv', sep=',')\n",
    "df_houseprices_traindata = df_houseprices_traindata.set_index([\"Id\"])\n",
    "df_houseprices_traindata.columns[df_houseprices_traindata.dtypes != object]\n"
   ]
  },
  {
   "cell_type": "markdown",
   "metadata": {},
   "source": [
    "## filter overallcond less than 3\n",
    "If we can categorize overallcondition on both the test and training sets, we might get a more precise estimation"
   ]
  },
  {
   "cell_type": "code",
   "execution_count": 5,
   "metadata": {},
   "outputs": [
    {
     "name": "stderr",
     "output_type": "stream",
     "text": [
      "C:\\tools\\Anaconda3\\lib\\site-packages\\ipykernel_launcher.py:3: SettingWithCopyWarning: \n",
      "A value is trying to be set on a copy of a slice from a DataFrame\n",
      "\n",
      "See the caveats in the documentation: http://pandas.pydata.org/pandas-docs/stable/indexing.html#indexing-view-versus-copy\n",
      "  This is separate from the ipykernel package so we can avoid doing imports until\n",
      "C:\\tools\\Anaconda3\\lib\\site-packages\\ipykernel_launcher.py:4: SettingWithCopyWarning: \n",
      "A value is trying to be set on a copy of a slice from a DataFrame\n",
      "\n",
      "See the caveats in the documentation: http://pandas.pydata.org/pandas-docs/stable/indexing.html#indexing-view-versus-copy\n",
      "  after removing the cwd from sys.path.\n"
     ]
    }
   ],
   "source": [
    "filter_test_under_three = df_houseprices_testdata[\"OverallCond\"]<3\n",
    "filter_train_under_three = df_houseprices_traindata[\"OverallCond\"]<3\n",
    "df_houseprices_traindata.loc[:,(\"OverallCond\")][filter_train_under_three] = 3\n",
    "df_houseprices_testdata.loc[:,(\"OverallCond\")][filter_test_under_three] = 3"
   ]
  },
  {
   "cell_type": "markdown",
   "metadata": {},
   "source": [
    "# Analyze selected columns"
   ]
  },
  {
   "cell_type": "code",
   "execution_count": 6,
   "metadata": {},
   "outputs": [
    {
     "data": {
      "text/html": [
       "<div>\n",
       "<style scoped>\n",
       "    .dataframe tbody tr th:only-of-type {\n",
       "        vertical-align: middle;\n",
       "    }\n",
       "\n",
       "    .dataframe tbody tr th {\n",
       "        vertical-align: top;\n",
       "    }\n",
       "\n",
       "    .dataframe thead th {\n",
       "        text-align: right;\n",
       "    }\n",
       "</style>\n",
       "<table border=\"1\" class=\"dataframe\">\n",
       "  <thead>\n",
       "    <tr style=\"text-align: right;\">\n",
       "      <th></th>\n",
       "      <th>OverallQual</th>\n",
       "      <th>OverallCond</th>\n",
       "      <th>MSSubClass</th>\n",
       "      <th>LotFrontage</th>\n",
       "      <th>GarageArea</th>\n",
       "    </tr>\n",
       "  </thead>\n",
       "  <tbody>\n",
       "    <tr>\n",
       "      <th>count</th>\n",
       "      <td>1460.000000</td>\n",
       "      <td>1460.000000</td>\n",
       "      <td>1460.000000</td>\n",
       "      <td>1201.000000</td>\n",
       "      <td>1460.000000</td>\n",
       "    </tr>\n",
       "    <tr>\n",
       "      <th>mean</th>\n",
       "      <td>6.099315</td>\n",
       "      <td>5.580137</td>\n",
       "      <td>56.897260</td>\n",
       "      <td>70.049958</td>\n",
       "      <td>472.980137</td>\n",
       "    </tr>\n",
       "    <tr>\n",
       "      <th>std</th>\n",
       "      <td>1.382997</td>\n",
       "      <td>1.098826</td>\n",
       "      <td>42.300571</td>\n",
       "      <td>24.284752</td>\n",
       "      <td>213.804841</td>\n",
       "    </tr>\n",
       "    <tr>\n",
       "      <th>min</th>\n",
       "      <td>1.000000</td>\n",
       "      <td>3.000000</td>\n",
       "      <td>20.000000</td>\n",
       "      <td>21.000000</td>\n",
       "      <td>0.000000</td>\n",
       "    </tr>\n",
       "    <tr>\n",
       "      <th>25%</th>\n",
       "      <td>5.000000</td>\n",
       "      <td>5.000000</td>\n",
       "      <td>20.000000</td>\n",
       "      <td>59.000000</td>\n",
       "      <td>334.500000</td>\n",
       "    </tr>\n",
       "    <tr>\n",
       "      <th>50%</th>\n",
       "      <td>6.000000</td>\n",
       "      <td>5.000000</td>\n",
       "      <td>50.000000</td>\n",
       "      <td>69.000000</td>\n",
       "      <td>480.000000</td>\n",
       "    </tr>\n",
       "    <tr>\n",
       "      <th>75%</th>\n",
       "      <td>7.000000</td>\n",
       "      <td>6.000000</td>\n",
       "      <td>70.000000</td>\n",
       "      <td>80.000000</td>\n",
       "      <td>576.000000</td>\n",
       "    </tr>\n",
       "    <tr>\n",
       "      <th>max</th>\n",
       "      <td>10.000000</td>\n",
       "      <td>9.000000</td>\n",
       "      <td>190.000000</td>\n",
       "      <td>313.000000</td>\n",
       "      <td>1418.000000</td>\n",
       "    </tr>\n",
       "  </tbody>\n",
       "</table>\n",
       "</div>"
      ],
      "text/plain": [
       "       OverallQual  OverallCond   MSSubClass  LotFrontage   GarageArea\n",
       "count  1460.000000  1460.000000  1460.000000  1201.000000  1460.000000\n",
       "mean      6.099315     5.580137    56.897260    70.049958   472.980137\n",
       "std       1.382997     1.098826    42.300571    24.284752   213.804841\n",
       "min       1.000000     3.000000    20.000000    21.000000     0.000000\n",
       "25%       5.000000     5.000000    20.000000    59.000000   334.500000\n",
       "50%       6.000000     5.000000    50.000000    69.000000   480.000000\n",
       "75%       7.000000     6.000000    70.000000    80.000000   576.000000\n",
       "max      10.000000     9.000000   190.000000   313.000000  1418.000000"
      ]
     },
     "execution_count": 6,
     "metadata": {},
     "output_type": "execute_result"
    }
   ],
   "source": [
    "df_houseprices_traindata[fit_cols_num].describe()"
   ]
  },
  {
   "cell_type": "markdown",
   "metadata": {},
   "source": [
    "## Analyze specific feature with a graph"
   ]
  },
  {
   "cell_type": "code",
   "execution_count": 7,
   "metadata": {},
   "outputs": [
    {
     "data": {
      "image/png": "[encoded data removed]",
      "text/plain": [
       "<Figure size 432x288 with 1 Axes>"
      ]
     },
     "metadata": {
      "needs_background": "light"
     },
     "output_type": "display_data"
    }
   ],
   "source": [
    "xcoloumnname= \"GarageArea\"\n",
    "ycoloumnname= \"SalePrice\"\n",
    "plt.plot(df_houseprices_traindata[xcoloumnname], df_houseprices_traindata[ycoloumnname], 'rx')\n",
    "plt.ylabel(ycoloumnname)\n",
    "plt.xlabel(xcoloumnname)\n",
    "plt.show()"
   ]
  },
  {
   "cell_type": "markdown",
   "metadata": {},
   "source": [
    "## Numeric Columns Select"
   ]
  },
  {
   "cell_type": "markdown",
   "metadata": {},
   "source": [
    "Now that we have separated them into coloumns, we can select the other Quality, condition and LotArea coloumns. \n",
    "Then we join them together, we now just need the last coloumn; \"delta_years_mod_and_sold\""
   ]
  },
  {
   "cell_type": "code",
   "execution_count": 8,
   "metadata": {},
   "outputs": [],
   "source": [
    "# train data\n",
    "df_train_numeric_cols = pd.DataFrame(df_houseprices_traindata[fit_cols_num])\n",
    "# remove null in LotFrontage\n",
    "df_train_numeric_cols[\"LotFrontage\"] = df_train_numeric_cols[\"LotFrontage\"].fillna(df_train_numeric_cols[\"LotFrontage\"].mean())\n",
    "# GarageArea\n",
    "# df_train_numeric_cols[\"GarageArea\"] = df_train_numeric_cols[\"GarageArea\"].fillna(0)"
   ]
  },
  {
   "cell_type": "code",
   "execution_count": 9,
   "metadata": {},
   "outputs": [],
   "source": [
    "# test data\n",
    "df_test_numeric_cols = pd.DataFrame(df_houseprices_testdata[fit_cols_num])\n",
    "# remove null in LotFrontage\n",
    "df_test_numeric_cols[\"LotFrontage\"] = df_test_numeric_cols[\"LotFrontage\"].fillna(df_test_numeric_cols[\"LotFrontage\"].mean())\n",
    "# GarageArea\n",
    "# df_test_numeric_cols[\"GarageArea\"] = df_test_numeric_cols[\"GarageArea\"].fillna(0)"
   ]
  },
  {
   "cell_type": "markdown",
   "metadata": {},
   "source": [
    "## MSZoning analysis"
   ]
  },
  {
   "cell_type": "code",
   "execution_count": 10,
   "metadata": {},
   "outputs": [
    {
     "data": {
      "text/plain": [
       "count     1460\n",
       "unique       5\n",
       "top         RL\n",
       "freq      1151\n",
       "Name: MSZoning, dtype: object"
      ]
     },
     "execution_count": 10,
     "metadata": {},
     "output_type": "execute_result"
    }
   ],
   "source": [
    "df_houseprices_traindata[\"MSZoning\"].describe()"
   ]
  },
  {
   "cell_type": "markdown",
   "metadata": {},
   "source": [
    "It is obvious that there is many low density residential zoned houses, I'll now separate the different MSZones to their own coloumn"
   ]
  },
  {
   "cell_type": "code",
   "execution_count": 11,
   "metadata": {},
   "outputs": [],
   "source": [
    "MSZones_train_seperated = pd.get_dummies(df_houseprices_traindata[\"MSZoning\"], prefix=\"MSZone\", drop_first=True, dtype=int)\n",
    "MSZones_test_seperated = pd.get_dummies(df_houseprices_testdata[\"MSZoning\"], prefix=\"MSZone\", drop_first=True, dtype=int)"
   ]
  },
  {
   "cell_type": "markdown",
   "metadata": {},
   "source": [
    "## Join num_cols with MSZones_seperated"
   ]
  },
  {
   "cell_type": "code",
   "execution_count": 12,
   "metadata": {},
   "outputs": [],
   "source": [
    "df_train_numeric_cols = df_train_numeric_cols.join(MSZones_train_seperated)\n",
    "df_test_numeric_cols = df_test_numeric_cols.join(MSZones_test_seperated)\n"
   ]
  },
  {
   "cell_type": "markdown",
   "metadata": {},
   "source": [
    "## Calculate delta years = yr_sold to yr_mod"
   ]
  },
  {
   "cell_type": "markdown",
   "metadata": {},
   "source": [
    "We calculate the delta_years_mod_and_sold like so: (YearRemodAdd - YrSold)*-1"
   ]
  },
  {
   "cell_type": "code",
   "execution_count": 13,
   "metadata": {},
   "outputs": [],
   "source": [
    "#calculate for train data\n",
    "yearRemodAdd = df_houseprices_traindata[\"YearRemodAdd\"]\n",
    "yearsold = df_houseprices_traindata[\"YrSold\"]\n",
    "calculatedCols = (yearRemodAdd-yearsold) * -1\n",
    "df_train_delta_years_mod_and_sold = pd.DataFrame(calculatedCols,columns=[\"delta_years_mod_and_sold\"])\n",
    "\n",
    "#calculate for test data\n",
    "yearRemodAdd = df_houseprices_testdata[\"YearRemodAdd\"]\n",
    "yearsold = df_houseprices_testdata[\"YrSold\"]\n",
    "calculatedCols = (yearRemodAdd-yearsold) * -1\n",
    "df_test_delta_years_mod_and_sold = pd.DataFrame(calculatedCols,columns=[\"delta_years_mod_and_sold\"])"
   ]
  },
  {
   "cell_type": "markdown",
   "metadata": {},
   "source": [
    "## Join num_cols with Delta years"
   ]
  },
  {
   "cell_type": "code",
   "execution_count": 14,
   "metadata": {},
   "outputs": [],
   "source": [
    "#df_train_numeric_cols = df_train_numeric_cols.join(df_train_delta_years_mod_and_sold)\n",
    "#df_test_numeric_cols = df_test_numeric_cols.join(df_test_delta_years_mod_and_sold)"
   ]
  },
  {
   "cell_type": "markdown",
   "metadata": {},
   "source": [
    "# LinearRegression"
   ]
  },
  {
   "cell_type": "code",
   "execution_count": 15,
   "metadata": {},
   "outputs": [
    {
     "name": "stdout",
     "output_type": "stream",
     "text": [
      "Model fitted, with train data\n"
     ]
    }
   ],
   "source": [
    "from sklearn.linear_model import LinearRegression\n",
    "from sklearn.linear_model import Lasso\n",
    "from sklearn.linear_model import Ridge\n",
    "\n",
    "a = 40\n",
    "\n",
    "#instanciate\n",
    "linReg = LinearRegression()\n",
    "lasso = Lasso(alpha = a)\n",
    "ridge = Ridge(alpha = a)\n",
    "\n",
    "\n",
    "#define X and y\n",
    "X_fit_train = df_train_numeric_cols\n",
    "X_test = df_test_numeric_cols\n",
    "y_fit_train = df_houseprices_traindata.SalePrice\n",
    "\n",
    "#fit\n",
    "linReg.fit(X_fit_train,y_fit_train)\n",
    "lasso.fit(X_fit_train, y_fit_train)\n",
    "ridge.fit(X_fit_train, y_fit_train)\n",
    "\n",
    "print(\"Model fitted, with train data\")"
   ]
  },
  {
   "cell_type": "code",
   "execution_count": 16,
   "metadata": {},
   "outputs": [
    {
     "name": "stdout",
     "output_type": "stream",
     "text": [
      "Using:\n",
      "[159825.00504395 163874.84322713 152126.65317481 ... 189257.43169171\n",
      " 108068.08636483 233771.73002738]\n",
      "[156183.92530486 163867.32440217 152107.15619367 ... 189331.69300701\n",
      " 108075.68653536 233687.41131154]\n",
      "[155644.82910253 162793.63274402 152936.11860992 ... 191418.40567272\n",
      " 107753.90062452 233239.18550387]\n",
      "[157217.91981711 163511.93345777 152389.9759928  ... 190002.51012382\n",
      " 107965.8911749  233566.1089476 ]\n",
      "       SalePrice\n",
      "0  157217.919817\n",
      "1  163511.933458\n",
      "2  152389.975993\n",
      "3  187434.996465\n",
      "4  241678.573178\n",
      "Corrected negative values in test prediction\n",
      "Corrected negative values in training prediction\n"
     ]
    }
   ],
   "source": [
    "#Predict train data for control\n",
    "if LinReg_Lasso_Ridge == 0:\n",
    "    y_train_predict = linReg.predict(X_fit_train)\n",
    "    \n",
    "elif LinReg_Lasso_Ridge == 1:\n",
    "    y_train_predict = lasso.predict(X_fit_train)\n",
    "    \n",
    "elif LinReg_Lasso_Ridge == 2:\n",
    "    y_train_predict = ridge.predict(X_fit_train)\n",
    "    \n",
    "elif LinReg_Lasso_Ridge == 3:\n",
    "    linreg_pred = linReg.predict(X_fit_train)\n",
    "    lasso_pred = lasso.predict(X_fit_train)\n",
    "    ridge_pred = ridge.predict(X_fit_train)\n",
    "    y_train_predict = np.mean([linreg_pred, lasso_pred, ridge_pred], axis=0)\n",
    "\n",
    "# to dataframe\n",
    "df_y_train_predict = pd.DataFrame(y_train_predict, columns=[\"SalePrice\"])\n",
    "\n",
    "print(\"Using:\")\n",
    "#Predict test data for submission\n",
    "if LinReg_Lasso_Ridge == 0:\n",
    "    y_test_predict = linReg.predict(X_test)\n",
    "    print(\" LinReg\")\n",
    "elif LinReg_Lasso_Ridge == 1:\n",
    "    y_test_predict = lasso.predict(X_test)\n",
    "    print(\" Lasso\")\n",
    "elif LinReg_Lasso_Ridge == 2:\n",
    "    y_test_predict = ridge.predict(X_test)\n",
    "    print(\" Ridge\")\n",
    "elif LinReg_Lasso_Ridge == 3:\n",
    "    linreg_pred = linReg.predict(X_test)\n",
    "    print(linreg_pred)\n",
    "    lasso_pred = lasso.predict(X_test)\n",
    "    print(lasso_pred)\n",
    "    ridge_pred = ridge.predict(X_test)\n",
    "    print(ridge_pred)\n",
    "    y_test_predict = np.mean([linreg_pred, lasso_pred, ridge_pred], axis=0)\n",
    "    print(y_test_predict)\n",
    "# to dataframe\n",
    "df_y_test_predict = pd.DataFrame(y_test_predict, columns=[\"SalePrice\"])\n",
    "print(df_y_test_predict.head())\n",
    "\n",
    "# test for negative values\n",
    "if(np.any(df_y_test_predict[df_y_test_predict.SalePrice < 0])):\n",
    "    df_y_test_predict = np.abs(df_y_test_predict[\"SalePrice\"])\n",
    "    print(\"Corrected negative values in test prediction\")\n",
    "else:\n",
    "    print(\"No negative values in test prediction\")\n",
    "    \n",
    "    \n",
    "if(np.any(df_y_train_predict[df_y_train_predict.SalePrice < 0])):\n",
    "    df_y_train_predict = np.abs(df_y_train_predict[\"SalePrice\"])\n",
    "    print(\"Corrected negative values in training prediction\")\n",
    "else:\n",
    "    print(\"No negative values in training prediction\")"
   ]
  },
  {
   "cell_type": "markdown",
   "metadata": {},
   "source": [
    "#### For analyzing if values are negative"
   ]
  },
  {
   "cell_type": "code",
   "execution_count": 17,
   "metadata": {},
   "outputs": [],
   "source": [
    "#df_houseprices_traindata[fit_cols_num].iloc[[88,375,533,636,916,1100]]"
   ]
  },
  {
   "cell_type": "code",
   "execution_count": 18,
   "metadata": {},
   "outputs": [],
   "source": [
    "#df_houseprices_traindata[fit_cols_num].describe().T"
   ]
  },
  {
   "cell_type": "markdown",
   "metadata": {},
   "source": [
    "## Mean Sq Error"
   ]
  },
  {
   "cell_type": "code",
   "execution_count": 19,
   "metadata": {},
   "outputs": [
    {
     "data": {
      "text/plain": [
       "0.061947596382706804"
      ]
     },
     "execution_count": 19,
     "metadata": {},
     "output_type": "execute_result"
    }
   ],
   "source": [
    "from sklearn import metrics\n",
    "price_log_real = np.log(df_houseprices_traindata.SalePrice)\n",
    "price_log_predict = np.log(df_y_train_predict)\n",
    "\n",
    "\n",
    "metrics.mean_squared_error(price_log_real, price_log_predict)\n"
   ]
  },
  {
   "cell_type": "markdown",
   "metadata": {},
   "source": [
    "# to CSV"
   ]
  },
  {
   "cell_type": "code",
   "execution_count": 20,
   "metadata": {},
   "outputs": [
    {
     "data": {
      "text/plain": [
       "0    157217.919817\n",
       "1    163511.933458\n",
       "2    152389.975993\n",
       "3    187434.996465\n",
       "4    241678.573178\n",
       "Name: SalePrice, dtype: float64"
      ]
     },
     "execution_count": 20,
     "metadata": {},
     "output_type": "execute_result"
    }
   ],
   "source": [
    "df_y_test_predict.head()"
   ]
  },
  {
   "cell_type": "code",
   "execution_count": 21,
   "metadata": {},
   "outputs": [],
   "source": [
    "sub = pd.read_csv('sample_submission.csv')\n",
    "sub.SalePrice = df_y_test_predict\n",
    "sub.to_csv('submission.csv', index=False)"
   ]
  },
  {
   "cell_type": "markdown",
   "metadata": {},
   "source": [
    "### Notes:"
   ]
  },
  {
   "cell_type": "markdown",
   "metadata": {},
   "source": [
    "That was.. Bad ... we think?\n",
    "Let's try remove some columns and see what that does to our prediction quality\n",
    "- Remove delta year: got worse!\n",
    "- Remove delta year and MSZones: Worse!\n",
    "- Add Salecondition: Slightly better!\n",
    "- Add Neighboorhood: A lot better!"
   ]
  },
  {
   "cell_type": "code",
   "execution_count": null,
   "metadata": {},
   "outputs": [],
   "source": []
  }
 ],
 "metadata": {
  "kernelspec": {
   "display_name": "Python 3",
   "language": "python",
   "name": "python3"
  },
  "language_info": {
   "codemirror_mode": {
    "name": "ipython",
    "version": 3
   },
   "file_extension": ".py",
   "mimetype": "text/x-python",
   "name": "python",
   "nbconvert_exporter": "python",
   "pygments_lexer": "ipython3",
   "version": "3.7.0"
  }
 },
 "nbformat": 4,
 "nbformat_minor": 2
}
